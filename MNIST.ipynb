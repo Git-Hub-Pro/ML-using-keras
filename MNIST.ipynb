{
  "nbformat": 4,
  "nbformat_minor": 0,
  "metadata": {
    "colab": {
      "name": "MNIST.ipynb",
      "provenance": [],
      "collapsed_sections": [],
      "authorship_tag": "ABX9TyMai7o0lUS2FKCChQaFO5eD",
      "include_colab_link": true
    },
    "kernelspec": {
      "name": "python3",
      "display_name": "Python 3"
    },
    "accelerator": "GPU"
  },
  "cells": [
    {
      "cell_type": "markdown",
      "metadata": {
        "id": "view-in-github",
        "colab_type": "text"
      },
      "source": [
        "<a href=\"https://colab.research.google.com/github/Git-Hub-Pro/ML-using-keras/blob/master/MNIST.ipynb\" target=\"_parent\"><img src=\"https://colab.research.google.com/assets/colab-badge.svg\" alt=\"Open In Colab\"/></a>"
      ]
    },
    {
      "cell_type": "code",
      "metadata": {
        "id": "fFYXKsfDmwzf",
        "colab_type": "code",
        "colab": {}
      },
      "source": [
        "%matplotlib inline\n",
        "import pandas as pd\n",
        "import numpy as np\n",
        "import matplotlib.pyplot as plt\n",
        "import math\n",
        "from keras.utils.np_utils import to_categorical\n",
        "from keras.models import Sequential,load_model, Model\n",
        "from keras.layers import Dense, Dropout, Flatten, Conv2D, MaxPool2D"
      ],
      "execution_count": 0,
      "outputs": []
    },
    {
      "cell_type": "code",
      "metadata": {
        "id": "qNeoVKuHnV0u",
        "colab_type": "code",
        "colab": {
          "base_uri": "https://localhost:8080/",
          "height": 34
        },
        "outputId": "de46584d-a55d-4386-879d-786c6d34454a"
      },
      "source": [
        "from keras.datasets import mnist\n",
        "(X_train,Y_train),(X_test,Y_test) = mnist.load_data()\n",
        "\n",
        "X_train.shape"
      ],
      "execution_count": 72,
      "outputs": [
        {
          "output_type": "execute_result",
          "data": {
            "text/plain": [
              "(60000, 28, 28)"
            ]
          },
          "metadata": {
            "tags": []
          },
          "execution_count": 72
        }
      ]
    },
    {
      "cell_type": "code",
      "metadata": {
        "id": "uvfCMAHYny0v",
        "colab_type": "code",
        "colab": {
          "base_uri": "https://localhost:8080/",
          "height": 282
        },
        "outputId": "6749b550-ae88-4d2d-c741-210a813a996b"
      },
      "source": [
        "plt.imshow(X_train[0],cmap='binary')"
      ],
      "execution_count": 73,
      "outputs": [
        {
          "output_type": "execute_result",
          "data": {
            "text/plain": [
              "<matplotlib.image.AxesImage at 0x7f5357c3efd0>"
            ]
          },
          "metadata": {
            "tags": []
          },
          "execution_count": 73
        },
        {
          "output_type": "display_data",
          "data": {
            "image/png": "[encoded data removed]",
            "text/plain": [
              "<Figure size 432x288 with 1 Axes>"
            ]
          },
          "metadata": {
            "tags": []
          }
        }
      ]
    },
    {
      "cell_type": "code",
      "metadata": {
        "id": "Ii1M_y1woApR",
        "colab_type": "code",
        "colab": {
          "base_uri": "https://localhost:8080/",
          "height": 34
        },
        "outputId": "a285dae0-80c2-42f1-aca3-91bc5037364c"
      },
      "source": [
        "Y_train[0]"
      ],
      "execution_count": 74,
      "outputs": [
        {
          "output_type": "execute_result",
          "data": {
            "text/plain": [
              "5"
            ]
          },
          "metadata": {
            "tags": []
          },
          "execution_count": 74
        }
      ]
    },
    {
      "cell_type": "code",
      "metadata": {
        "id": "ODC56If4oHM_",
        "colab_type": "code",
        "colab": {}
      },
      "source": [
        "X_train = X_train.reshape(60000,28,28,1)\n",
        "X_test  = X_test.reshape(-1,28,28,1) # -1 :임의로 맞춰서 넣어라\n",
        "\n",
        "Y_train = to_categorical(Y_train)\n",
        "Y_test  = to_categorical(Y_test)\n",
        "\n",
        "X_train = X_train/255.0\n",
        "X_test = X_test/255.0\n"
      ],
      "execution_count": 0,
      "outputs": []
    },
    {
      "cell_type": "code",
      "metadata": {
        "id": "OF33SlyookqN",
        "colab_type": "code",
        "colab": {
          "base_uri": "https://localhost:8080/",
          "height": 364
        },
        "outputId": "2769fbc6-fb46-40a6-a5a7-06b3a0261a2d"
      },
      "source": [
        "model = Sequential()\n",
        "model.add(Conv2D(filters=16,kernel_size=(5,5),padding='valid',strides=1,activation='relu',input_shape=(28,28,1,)))\n",
        "model.add(MaxPool2D(pool_size=(2,2)))\n",
        "model.add(Conv2D(filters=36,kernel_size=(5,5),padding='valid',strides=1,activation='relu'))\n",
        "model.add(Flatten())\n",
        "model.add(Dense(128,activation='relu'))\n",
        "model.add(Dense(10,activation='softmax'))\n",
        "model.summary()\n",
        "\n",
        "model.compile(loss='categorical_crossentropy',optimizer='adam',metrics=['accuracy'])"
      ],
      "execution_count": 84,
      "outputs": [
        {
          "output_type": "stream",
          "text": [
            "Model: \"sequential_7\"\n",
            "_________________________________________________________________\n",
            "Layer (type)                 Output Shape              Param #   \n",
            "=================================================================\n",
            "conv2d_13 (Conv2D)           (None, 24, 24, 16)        416       \n",
            "_________________________________________________________________\n",
            "max_pooling2d_7 (MaxPooling2 (None, 12, 12, 16)        0         \n",
            "_________________________________________________________________\n",
            "conv2d_14 (Conv2D)           (None, 8, 8, 36)          14436     \n",
            "_________________________________________________________________\n",
            "flatten_7 (Flatten)          (None, 2304)              0         \n",
            "_________________________________________________________________\n",
            "dense_13 (Dense)             (None, 128)               295040    \n",
            "_________________________________________________________________\n",
            "dense_14 (Dense)             (None, 10)                1290      \n",
            "=================================================================\n",
            "Total params: 311,182\n",
            "Trainable params: 311,182\n",
            "Non-trainable params: 0\n",
            "_________________________________________________________________\n"
          ],
          "name": "stdout"
        }
      ]
    },
    {
      "cell_type": "code",
      "metadata": {
        "id": "Aet_c-cOp487",
        "colab_type": "code",
        "colab": {
          "base_uri": "https://localhost:8080/",
          "height": 106
        },
        "outputId": "fe5e64ca-300a-4b56-a02a-d10eeec940e3"
      },
      "source": [
        "model.fit(X_train,Y_train,batch_size=200,epochs=1,validation_split=0.2)\n"
      ],
      "execution_count": 78,
      "outputs": [
        {
          "output_type": "stream",
          "text": [
            "Train on 48000 samples, validate on 12000 samples\n",
            "Epoch 1/1\n",
            "48000/48000 [==============================] - 2s 43us/step - loss: 0.2704 - acc: 0.9244 - val_loss: 0.0800 - val_acc: 0.9764\n"
          ],
          "name": "stdout"
        },
        {
          "output_type": "execute_result",
          "data": {
            "text/plain": [
              "<keras.callbacks.History at 0x7f535e4dad30>"
            ]
          },
          "metadata": {
            "tags": []
          },
          "execution_count": 78
        }
      ]
    },
    {
      "cell_type": "code",
      "metadata": {
        "id": "nDw4NrrgqyEB",
        "colab_type": "code",
        "colab": {
          "base_uri": "https://localhost:8080/",
          "height": 52
        },
        "outputId": "8d0074bd-01ba-4eb3-cc02-fee5ba28953d"
      },
      "source": [
        "score = model.evaluate(X_test,Y_test)\n",
        "print(score)"
      ],
      "execution_count": 79,
      "outputs": [
        {
          "output_type": "stream",
          "text": [
            "10000/10000 [==============================] - 1s 56us/step\n",
            "[0.06891152080688626, 0.9788]\n"
          ],
          "name": "stdout"
        }
      ]
    },
    {
      "cell_type": "code",
      "metadata": {
        "id": "iVuJQf6BrRvn",
        "colab_type": "code",
        "colab": {
          "base_uri": "https://localhost:8080/",
          "height": 34
        },
        "outputId": "3a914c75-f54d-4ccf-ea94-e0c17614c096"
      },
      "source": [
        "'''\n",
        "=================================================================\n",
        "conv2d_11 (Conv2D)           (None, 24, 24, 16)        416       \n",
        "_________________________________________________________________\n",
        "max_pooling2d_6 (MaxPooling2 (None, 12, 12, 16)        0         \n",
        "_________________________________________________________________\n",
        "conv2d_12 (Conv2D)           (None, 8, 8, 36)          14436     \n",
        "_________________________________________________________________\n",
        "flatten_6 (Flatten)          (None, 2304)              0         \n",
        "_________________________________________________________________\n",
        "dense_11 (Dense)             (None, 128)               295040    \n",
        "_________________________________________________________________\n",
        "dense_12 (Dense)             (None, 10)                1290      \n",
        "=================================================================\n",
        "'''\n",
        "l1 = model.get_layer('conv2d_11')\n",
        "l1.get_weights()\n",
        "l1.get_weights()[0].shape\n",
        "# (5, 5, 1, 16)\n",
        "# (16,5,5,1)"
      ],
      "execution_count": 80,
      "outputs": [
        {
          "output_type": "execute_result",
          "data": {
            "text/plain": [
              "(5, 5, 1, 16)"
            ]
          },
          "metadata": {
            "tags": []
          },
          "execution_count": 80
        }
      ]
    },
    {
      "cell_type": "code",
      "metadata": {
        "id": "fAd1WyfwrsD8",
        "colab_type": "code",
        "colab": {}
      },
      "source": [
        "def plot_weight(w):\n",
        "\n",
        "    w_min = np.min(w)\n",
        "    w_max = np.max(w)\n",
        "\n",
        "    num_grid = math.ceil(math.sqrt(w.shape[3]))\n",
        "    \n",
        "    fix, axis = plt.subplots(num_grid,num_grid)\n",
        "\n",
        "    for i, ax in enumerate(axis.flat):\n",
        "\n",
        "        if i < w.shape[3]:\n",
        "            img = w[:,:,0,i]\n",
        "            ax.imshow(img,vmin=w_min,vmax=w_max)\n",
        "      \n",
        "    ax.set_xticks([])\n",
        "    ax.set_yticks([])\n",
        "\n",
        "    plt.show()"
      ],
      "execution_count": 0,
      "outputs": []
    },
    {
      "cell_type": "code",
      "metadata": {
        "id": "n9lzygo7tJzE",
        "colab_type": "code",
        "colab": {
          "base_uri": "https://localhost:8080/",
          "height": 514
        },
        "outputId": "f1404e88-09a4-4a4f-b595-5ff904cba825"
      },
      "source": [
        "l1 = model.get_layer('conv2d_11')\n",
        "w1 = l1.get_weights()[0]\n",
        "plot_weight(w1)\n",
        "\n",
        "l2 = model.get_layer('conv2d_12')\n",
        "w2 = l2.get_weights()[0]\n",
        "plot_weight(w2)"
      ],
      "execution_count": 81,
      "outputs": [
        {
          "output_type": "display_data",
          "data": {
            "image/png": "[encoded data removed]",
            "text/plain": [
              "<Figure size 432x288 with 16 Axes>"
            ]
          },
          "metadata": {
            "tags": []
          }
        },
        {
          "output_type": "display_data",
          "data": {
            "image/png": "[encoded data removed]",
            "text/plain": [
              "<Figure size 432x288 with 36 Axes>"
            ]
          },
          "metadata": {
            "tags": []
          }
        }
      ]
    },
    {
      "cell_type": "code",
      "metadata": {
        "id": "S8sQjSkrtT4s",
        "colab_type": "code",
        "colab": {}
      },
      "source": [
        "temp_model = Model(inputs=model.get_layer('conv2d_13').input,outputs=model.get_layer('conv2d_13').output)\n",
        "output = temp_model.predict(X_test)\n"
      ],
      "execution_count": 0,
      "outputs": []
    },
    {
      "cell_type": "code",
      "metadata": {
        "id": "9rm6D2Yj0IpP",
        "colab_type": "code",
        "colab": {
          "base_uri": "https://localhost:8080/",
          "height": 34
        },
        "outputId": "254c6eb1-d463-4908-a037-0d243e30ab29"
      },
      "source": [
        "output.shape"
      ],
      "execution_count": 86,
      "outputs": [
        {
          "output_type": "execute_result",
          "data": {
            "text/plain": [
              "(10000, 24, 24, 16)"
            ]
          },
          "metadata": {
            "tags": []
          },
          "execution_count": 86
        }
      ]
    },
    {
      "cell_type": "code",
      "metadata": {
        "id": "nVWWdmNa3XpB",
        "colab_type": "code",
        "colab": {}
      },
      "source": [
        "def plot_output(output):\n",
        "\n",
        "    num_grid = math.ceil(math.sqrt(output.shape[3]))\n",
        "    \n",
        "    fix, axis = plt.subplots(num_grid,num_grid)\n",
        "\n",
        "    for i, ax in enumerate(axis.flat):\n",
        "\n",
        "        if i < output.shape[3]:\n",
        "            img = output[0,:,:,i]\n",
        "            ax.imshow(img,cmap='binary')\n",
        "      \n",
        "        ax.set_xticks([])\n",
        "        ax.set_yticks([])\n",
        "\n",
        "    plt.show()"
      ],
      "execution_count": 0,
      "outputs": []
    },
    {
      "cell_type": "code",
      "metadata": {
        "id": "eWLEqbJ_3v0g",
        "colab_type": "code",
        "colab": {
          "base_uri": "https://localhost:8080/",
          "height": 252
        },
        "outputId": "46a55fec-8ee8-41b3-bb88-e793ea86bef7"
      },
      "source": [
        "plot_output(output)"
      ],
      "execution_count": 92,
      "outputs": [
        {
          "output_type": "display_data",
          "data": {
            "image/png": "[encoded data removed]",
            "text/plain": [
              "<Figure size 432x288 with 16 Axes>"
            ]
          },
          "metadata": {
            "tags": []
          }
        }
      ]
    },
    {
      "cell_type": "code",
      "metadata": {
        "id": "RLJt_jmt35ui",
        "colab_type": "code",
        "colab": {}
      },
      "source": [
        ""
      ],
      "execution_count": 0,
      "outputs": []
    }
  ]
}