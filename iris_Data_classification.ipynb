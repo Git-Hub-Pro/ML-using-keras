{
  "nbformat": 4,
  "nbformat_minor": 0,
  "metadata": {
    "colab": {
      "name": "iris Data classification.ipynb",
      "provenance": [],
      "collapsed_sections": [],
      "authorship_tag": "ABX9TyOfOk4sq1XO8P0N10MDekf9",
      "include_colab_link": true
    },
    "kernelspec": {
      "name": "python3",
      "display_name": "Python 3"
    },
    "accelerator": "GPU"
  },
  "cells": [
    {
      "cell_type": "markdown",
      "metadata": {
        "id": "view-in-github",
        "colab_type": "text"
      },
      "source": [
        "<a href=\"https://colab.research.google.com/github/Git-Hub-Pro/ML-using-keras/blob/master/iris_Data_classification.ipynb\" target=\"_parent\"><img src=\"https://colab.research.google.com/assets/colab-badge.svg\" alt=\"Open In Colab\"/></a>"
      ]
    },
    {
      "cell_type": "code",
      "metadata": {
        "id": "rhczFT-Wp21y",
        "colab_type": "code",
        "colab": {}
      },
      "source": [
        "# google colab에 gdrive mount 하기(아래 링크 클릭후, 내용 복사 후 입력하기)\n",
        "# 12시간 지나면 자동으로 해제되어서 지속적으로 로그인을 해주어야 한다.\n",
        "from google.colab import drive\n",
        "drive.mount('/content/gdrive/')"
      ],
      "execution_count": 0,
      "outputs": []
    },
    {
      "cell_type": "code",
      "metadata": {
        "id": "go6AYJFdqIFC",
        "colab_type": "code",
        "colab": {}
      },
      "source": [
        "%matplotlib inline\n",
        "import matplotlib.pyplot as plt\n",
        "import numpy as np\n",
        "from keras.layers import Dense, Input\n",
        "from keras.models import Model, Sequential\n",
        "from keras.utils import to_categorical\n",
        "from collections import Counter\n",
        "import pandas as pd\n",
        "import seaborn as sns\n",
        "from sklearn.preprocessing import MinMaxScaler\n",
        "import tensorflow.compat.v1 as tf\n",
        "tf.disable_v2_behavior()"
      ],
      "execution_count": 0,
      "outputs": []
    },
    {
      "cell_type": "code",
      "metadata": {
        "id": "kVtQynPhqV31",
        "colab_type": "code",
        "colab": {
          "base_uri": "https://localhost:8080/",
          "height": 54
        },
        "outputId": "69f48ba5-c550-49ee-ddbf-f9b1c44a2022"
      },
      "source": [
        "'''\n",
        "1. sepal length in cm \n",
        "2. sepal width in cm \n",
        "3. petal length in cm \n",
        "4. petal width in cm \n",
        "5. class: \n",
        "-- Iris Setosa \n",
        "-- Iris Versicolour \n",
        "-- Iris Virginica\n",
        "'''"
      ],
      "execution_count": 3,
      "outputs": [
        {
          "output_type": "execute_result",
          "data": {
            "text/plain": [
              "'\\n1. sepal length in cm \\n2. sepal width in cm \\n3. petal length in cm \\n4. petal width in cm \\n5. class: \\n-- Iris Setosa \\n-- Iris Versicolour \\n-- Iris Virginica\\n'"
            ]
          },
          "metadata": {
            "tags": []
          },
          "execution_count": 3
        }
      ]
    },
    {
      "cell_type": "code",
      "metadata": {
        "id": "6vbf4UiDqdDG",
        "colab_type": "code",
        "colab": {
          "base_uri": "https://localhost:8080/",
          "height": 206
        },
        "outputId": "27056164-1a33-4b10-d217-e26f99768fde"
      },
      "source": [
        "df = pd.read_csv(\"/content/gdrive/My Drive/data/iris.data\", index_col=False, names=['s_len', 's_wid', 'p_len', 'p_wid', 'class'])"
      ],
      "execution_count": 6,
      "outputs": [
        {
          "output_type": "execute_result",
          "data": {
            "text/html": [
              "<div>\n",
              "<style scoped>\n",
              "    .dataframe tbody tr th:only-of-type {\n",
              "        vertical-align: middle;\n",
              "    }\n",
              "\n",
              "    .dataframe tbody tr th {\n",
              "        vertical-align: top;\n",
              "    }\n",
              "\n",
              "    .dataframe thead th {\n",
              "        text-align: right;\n",
              "    }\n",
              "</style>\n",
              "<table border=\"1\" class=\"dataframe\">\n",
              "  <thead>\n",
              "    <tr style=\"text-align: right;\">\n",
              "      <th></th>\n",
              "      <th>s_len</th>\n",
              "      <th>s_wid</th>\n",
              "      <th>p_len</th>\n",
              "      <th>p_wid</th>\n",
              "      <th>class</th>\n",
              "    </tr>\n",
              "  </thead>\n",
              "  <tbody>\n",
              "    <tr>\n",
              "      <th>0</th>\n",
              "      <td>5.1</td>\n",
              "      <td>3.5</td>\n",
              "      <td>1.4</td>\n",
              "      <td>0.2</td>\n",
              "      <td>Iris-setosa</td>\n",
              "    </tr>\n",
              "    <tr>\n",
              "      <th>1</th>\n",
              "      <td>4.9</td>\n",
              "      <td>3.0</td>\n",
              "      <td>1.4</td>\n",
              "      <td>0.2</td>\n",
              "      <td>Iris-setosa</td>\n",
              "    </tr>\n",
              "    <tr>\n",
              "      <th>2</th>\n",
              "      <td>4.7</td>\n",
              "      <td>3.2</td>\n",
              "      <td>1.3</td>\n",
              "      <td>0.2</td>\n",
              "      <td>Iris-setosa</td>\n",
              "    </tr>\n",
              "    <tr>\n",
              "      <th>3</th>\n",
              "      <td>4.6</td>\n",
              "      <td>3.1</td>\n",
              "      <td>1.5</td>\n",
              "      <td>0.2</td>\n",
              "      <td>Iris-setosa</td>\n",
              "    </tr>\n",
              "    <tr>\n",
              "      <th>4</th>\n",
              "      <td>5.0</td>\n",
              "      <td>3.6</td>\n",
              "      <td>1.4</td>\n",
              "      <td>0.2</td>\n",
              "      <td>Iris-setosa</td>\n",
              "    </tr>\n",
              "  </tbody>\n",
              "</table>\n",
              "</div>"
            ],
            "text/plain": [
              "   s_len  s_wid  p_len  p_wid        class\n",
              "0    5.1    3.5    1.4    0.2  Iris-setosa\n",
              "1    4.9    3.0    1.4    0.2  Iris-setosa\n",
              "2    4.7    3.2    1.3    0.2  Iris-setosa\n",
              "3    4.6    3.1    1.5    0.2  Iris-setosa\n",
              "4    5.0    3.6    1.4    0.2  Iris-setosa"
            ]
          },
          "metadata": {
            "tags": []
          },
          "execution_count": 6
        }
      ]
    },
    {
      "cell_type": "code",
      "metadata": {
        "id": "uG1yEy84rqiJ",
        "colab_type": "code",
        "colab": {
          "base_uri": "https://localhost:8080/",
          "height": 121
        },
        "outputId": "f9df0588-55d1-40cf-e850-a0c1f196a150"
      },
      "source": [
        "df.count()"
      ],
      "execution_count": 7,
      "outputs": [
        {
          "output_type": "execute_result",
          "data": {
            "text/plain": [
              "s_len    150\n",
              "s_wid    150\n",
              "p_len    150\n",
              "p_wid    150\n",
              "class    150\n",
              "dtype: int64"
            ]
          },
          "metadata": {
            "tags": []
          },
          "execution_count": 7
        }
      ]
    },
    {
      "cell_type": "code",
      "metadata": {
        "id": "s1TkqEL4sCOT",
        "colab_type": "code",
        "colab": {
          "base_uri": "https://localhost:8080/",
          "height": 423
        },
        "outputId": "fce35f37-9dd0-42bf-f2b7-171641e7a639"
      },
      "source": [
        "df.head(150)"
      ],
      "execution_count": 8,
      "outputs": [
        {
          "output_type": "execute_result",
          "data": {
            "text/html": [
              "<div>\n",
              "<style scoped>\n",
              "    .dataframe tbody tr th:only-of-type {\n",
              "        vertical-align: middle;\n",
              "    }\n",
              "\n",
              "    .dataframe tbody tr th {\n",
              "        vertical-align: top;\n",
              "    }\n",
              "\n",
              "    .dataframe thead th {\n",
              "        text-align: right;\n",
              "    }\n",
              "</style>\n",
              "<table border=\"1\" class=\"dataframe\">\n",
              "  <thead>\n",
              "    <tr style=\"text-align: right;\">\n",
              "      <th></th>\n",
              "      <th>s_len</th>\n",
              "      <th>s_wid</th>\n",
              "      <th>p_len</th>\n",
              "      <th>p_wid</th>\n",
              "      <th>class</th>\n",
              "    </tr>\n",
              "  </thead>\n",
              "  <tbody>\n",
              "    <tr>\n",
              "      <th>0</th>\n",
              "      <td>5.1</td>\n",
              "      <td>3.5</td>\n",
              "      <td>1.4</td>\n",
              "      <td>0.2</td>\n",
              "      <td>Iris-setosa</td>\n",
              "    </tr>\n",
              "    <tr>\n",
              "      <th>1</th>\n",
              "      <td>4.9</td>\n",
              "      <td>3.0</td>\n",
              "      <td>1.4</td>\n",
              "      <td>0.2</td>\n",
              "      <td>Iris-setosa</td>\n",
              "    </tr>\n",
              "    <tr>\n",
              "      <th>2</th>\n",
              "      <td>4.7</td>\n",
              "      <td>3.2</td>\n",
              "      <td>1.3</td>\n",
              "      <td>0.2</td>\n",
              "      <td>Iris-setosa</td>\n",
              "    </tr>\n",
              "    <tr>\n",
              "      <th>3</th>\n",
              "      <td>4.6</td>\n",
              "      <td>3.1</td>\n",
              "      <td>1.5</td>\n",
              "      <td>0.2</td>\n",
              "      <td>Iris-setosa</td>\n",
              "    </tr>\n",
              "    <tr>\n",
              "      <th>4</th>\n",
              "      <td>5.0</td>\n",
              "      <td>3.6</td>\n",
              "      <td>1.4</td>\n",
              "      <td>0.2</td>\n",
              "      <td>Iris-setosa</td>\n",
              "    </tr>\n",
              "    <tr>\n",
              "      <th>...</th>\n",
              "      <td>...</td>\n",
              "      <td>...</td>\n",
              "      <td>...</td>\n",
              "      <td>...</td>\n",
              "      <td>...</td>\n",
              "    </tr>\n",
              "    <tr>\n",
              "      <th>145</th>\n",
              "      <td>6.7</td>\n",
              "      <td>3.0</td>\n",
              "      <td>5.2</td>\n",
              "      <td>2.3</td>\n",
              "      <td>Iris-virginica</td>\n",
              "    </tr>\n",
              "    <tr>\n",
              "      <th>146</th>\n",
              "      <td>6.3</td>\n",
              "      <td>2.5</td>\n",
              "      <td>5.0</td>\n",
              "      <td>1.9</td>\n",
              "      <td>Iris-virginica</td>\n",
              "    </tr>\n",
              "    <tr>\n",
              "      <th>147</th>\n",
              "      <td>6.5</td>\n",
              "      <td>3.0</td>\n",
              "      <td>5.2</td>\n",
              "      <td>2.0</td>\n",
              "      <td>Iris-virginica</td>\n",
              "    </tr>\n",
              "    <tr>\n",
              "      <th>148</th>\n",
              "      <td>6.2</td>\n",
              "      <td>3.4</td>\n",
              "      <td>5.4</td>\n",
              "      <td>2.3</td>\n",
              "      <td>Iris-virginica</td>\n",
              "    </tr>\n",
              "    <tr>\n",
              "      <th>149</th>\n",
              "      <td>5.9</td>\n",
              "      <td>3.0</td>\n",
              "      <td>5.1</td>\n",
              "      <td>1.8</td>\n",
              "      <td>Iris-virginica</td>\n",
              "    </tr>\n",
              "  </tbody>\n",
              "</table>\n",
              "<p>150 rows × 5 columns</p>\n",
              "</div>"
            ],
            "text/plain": [
              "     s_len  s_wid  p_len  p_wid           class\n",
              "0      5.1    3.5    1.4    0.2     Iris-setosa\n",
              "1      4.9    3.0    1.4    0.2     Iris-setosa\n",
              "2      4.7    3.2    1.3    0.2     Iris-setosa\n",
              "3      4.6    3.1    1.5    0.2     Iris-setosa\n",
              "4      5.0    3.6    1.4    0.2     Iris-setosa\n",
              "..     ...    ...    ...    ...             ...\n",
              "145    6.7    3.0    5.2    2.3  Iris-virginica\n",
              "146    6.3    2.5    5.0    1.9  Iris-virginica\n",
              "147    6.5    3.0    5.2    2.0  Iris-virginica\n",
              "148    6.2    3.4    5.4    2.3  Iris-virginica\n",
              "149    5.9    3.0    5.1    1.8  Iris-virginica\n",
              "\n",
              "[150 rows x 5 columns]"
            ]
          },
          "metadata": {
            "tags": []
          },
          "execution_count": 8
        }
      ]
    },
    {
      "cell_type": "code",
      "metadata": {
        "id": "jzzh6EpMsEjj",
        "colab_type": "code",
        "colab": {
          "base_uri": "https://localhost:8080/",
          "height": 300
        },
        "outputId": "3c369820-e79b-4a0d-c942-c76663c3d571"
      },
      "source": [
        "df.describe()"
      ],
      "execution_count": 9,
      "outputs": [
        {
          "output_type": "execute_result",
          "data": {
            "text/html": [
              "<div>\n",
              "<style scoped>\n",
              "    .dataframe tbody tr th:only-of-type {\n",
              "        vertical-align: middle;\n",
              "    }\n",
              "\n",
              "    .dataframe tbody tr th {\n",
              "        vertical-align: top;\n",
              "    }\n",
              "\n",
              "    .dataframe thead th {\n",
              "        text-align: right;\n",
              "    }\n",
              "</style>\n",
              "<table border=\"1\" class=\"dataframe\">\n",
              "  <thead>\n",
              "    <tr style=\"text-align: right;\">\n",
              "      <th></th>\n",
              "      <th>s_len</th>\n",
              "      <th>s_wid</th>\n",
              "      <th>p_len</th>\n",
              "      <th>p_wid</th>\n",
              "    </tr>\n",
              "  </thead>\n",
              "  <tbody>\n",
              "    <tr>\n",
              "      <th>count</th>\n",
              "      <td>150.000000</td>\n",
              "      <td>150.000000</td>\n",
              "      <td>150.000000</td>\n",
              "      <td>150.000000</td>\n",
              "    </tr>\n",
              "    <tr>\n",
              "      <th>mean</th>\n",
              "      <td>5.843333</td>\n",
              "      <td>3.054000</td>\n",
              "      <td>3.758667</td>\n",
              "      <td>1.198667</td>\n",
              "    </tr>\n",
              "    <tr>\n",
              "      <th>std</th>\n",
              "      <td>0.828066</td>\n",
              "      <td>0.433594</td>\n",
              "      <td>1.764420</td>\n",
              "      <td>0.763161</td>\n",
              "    </tr>\n",
              "    <tr>\n",
              "      <th>min</th>\n",
              "      <td>4.300000</td>\n",
              "      <td>2.000000</td>\n",
              "      <td>1.000000</td>\n",
              "      <td>0.100000</td>\n",
              "    </tr>\n",
              "    <tr>\n",
              "      <th>25%</th>\n",
              "      <td>5.100000</td>\n",
              "      <td>2.800000</td>\n",
              "      <td>1.600000</td>\n",
              "      <td>0.300000</td>\n",
              "    </tr>\n",
              "    <tr>\n",
              "      <th>50%</th>\n",
              "      <td>5.800000</td>\n",
              "      <td>3.000000</td>\n",
              "      <td>4.350000</td>\n",
              "      <td>1.300000</td>\n",
              "    </tr>\n",
              "    <tr>\n",
              "      <th>75%</th>\n",
              "      <td>6.400000</td>\n",
              "      <td>3.300000</td>\n",
              "      <td>5.100000</td>\n",
              "      <td>1.800000</td>\n",
              "    </tr>\n",
              "    <tr>\n",
              "      <th>max</th>\n",
              "      <td>7.900000</td>\n",
              "      <td>4.400000</td>\n",
              "      <td>6.900000</td>\n",
              "      <td>2.500000</td>\n",
              "    </tr>\n",
              "  </tbody>\n",
              "</table>\n",
              "</div>"
            ],
            "text/plain": [
              "            s_len       s_wid       p_len       p_wid\n",
              "count  150.000000  150.000000  150.000000  150.000000\n",
              "mean     5.843333    3.054000    3.758667    1.198667\n",
              "std      0.828066    0.433594    1.764420    0.763161\n",
              "min      4.300000    2.000000    1.000000    0.100000\n",
              "25%      5.100000    2.800000    1.600000    0.300000\n",
              "50%      5.800000    3.000000    4.350000    1.300000\n",
              "75%      6.400000    3.300000    5.100000    1.800000\n",
              "max      7.900000    4.400000    6.900000    2.500000"
            ]
          },
          "metadata": {
            "tags": []
          },
          "execution_count": 9
        }
      ]
    },
    {
      "cell_type": "code",
      "metadata": {
        "id": "kLjqOAhdsIDO",
        "colab_type": "code",
        "colab": {}
      },
      "source": [
        "Y = LabelEncoder().fit_transform(df['class'])\n",
        "Y = to_categorical(Y)\n",
        "\n",
        "X = df.drop('class',axis=1)\n",
        "X_train  = X[:-5]\n",
        "X_test = X[-5:]\n",
        "\n",
        "Y_train = Y[:-5]\n",
        "Y_test = Y[-5:]"
      ],
      "execution_count": 0,
      "outputs": []
    },
    {
      "cell_type": "code",
      "metadata": {
        "id": "2SzooWatsby6",
        "colab_type": "code",
        "colab": {
          "base_uri": "https://localhost:8080/",
          "height": 1000
        },
        "outputId": "7e9ed1e2-eeb6-4dc2-d972-35788199aa2a"
      },
      "source": [
        "model = Sequential()\n",
        "model.add(Dense(256,input_shape=(4,),activation='relu'))\n",
        "model.add(Dense(128,activation='relu'))\n",
        "model.add(Dense(32,activation='relu'))\n",
        "model.add(Dense(3,activation='softmax'))\n",
        "\n",
        "model.compile(loss='categorical_crossentropy',optimizer='adam',metrics=['accuracy'])\n",
        "model.summary()\n",
        "hist = model.fit(X_train, Y_train, epochs=40, validation_split=0.1)"
      ],
      "execution_count": 40,
      "outputs": [
        {
          "output_type": "stream",
          "text": [
            "Model: \"sequential_12\"\n",
            "_________________________________________________________________\n",
            "Layer (type)                 Output Shape              Param #   \n",
            "=================================================================\n",
            "dense_41 (Dense)             (None, 256)               1280      \n",
            "_________________________________________________________________\n",
            "dense_42 (Dense)             (None, 128)               32896     \n",
            "_________________________________________________________________\n",
            "dense_43 (Dense)             (None, 32)                4128      \n",
            "_________________________________________________________________\n",
            "dense_44 (Dense)             (None, 3)                 99        \n",
            "=================================================================\n",
            "Total params: 38,403\n",
            "Trainable params: 38,403\n",
            "Non-trainable params: 0\n",
            "_________________________________________________________________\n",
            "Train on 130 samples, validate on 15 samples\n",
            "Epoch 1/40\n",
            "130/130 [==============================] - 0s 4ms/step - loss: 0.9625 - acc: 0.5538 - val_loss: 1.5479 - val_acc: 0.0000e+00\n",
            "Epoch 2/40\n",
            "130/130 [==============================] - 0s 170us/step - loss: 0.7521 - acc: 0.7769 - val_loss: 0.6306 - val_acc: 1.0000\n",
            "Epoch 3/40\n",
            "130/130 [==============================] - 0s 191us/step - loss: 0.6189 - acc: 0.6769 - val_loss: 0.7104 - val_acc: 0.4667\n",
            "Epoch 4/40\n",
            "130/130 [==============================] - 0s 180us/step - loss: 0.4843 - acc: 0.8154 - val_loss: 1.3960 - val_acc: 0.0000e+00\n",
            "Epoch 5/40\n",
            "130/130 [==============================] - 0s 187us/step - loss: 0.4784 - acc: 0.7692 - val_loss: 0.9641 - val_acc: 0.0000e+00\n",
            "Epoch 6/40\n",
            "130/130 [==============================] - 0s 205us/step - loss: 0.3559 - acc: 0.8769 - val_loss: 0.4171 - val_acc: 1.0000\n",
            "Epoch 7/40\n",
            "130/130 [==============================] - 0s 213us/step - loss: 0.3201 - acc: 0.9538 - val_loss: 0.3720 - val_acc: 1.0000\n",
            "Epoch 8/40\n",
            "130/130 [==============================] - 0s 192us/step - loss: 0.2904 - acc: 0.9462 - val_loss: 0.6855 - val_acc: 0.5333\n",
            "Epoch 9/40\n",
            "130/130 [==============================] - 0s 227us/step - loss: 0.3187 - acc: 0.8385 - val_loss: 1.6709 - val_acc: 0.0000e+00\n",
            "Epoch 10/40\n",
            "130/130 [==============================] - 0s 195us/step - loss: 0.3369 - acc: 0.8000 - val_loss: 0.3638 - val_acc: 1.0000\n",
            "Epoch 11/40\n",
            "130/130 [==============================] - 0s 206us/step - loss: 0.2471 - acc: 0.9231 - val_loss: 0.1791 - val_acc: 1.0000\n",
            "Epoch 12/40\n",
            "130/130 [==============================] - 0s 204us/step - loss: 0.2339 - acc: 0.9385 - val_loss: 0.3560 - val_acc: 1.0000\n",
            "Epoch 13/40\n",
            "130/130 [==============================] - 0s 185us/step - loss: 0.2150 - acc: 0.9385 - val_loss: 0.2198 - val_acc: 1.0000\n",
            "Epoch 14/40\n",
            "130/130 [==============================] - 0s 172us/step - loss: 0.1777 - acc: 0.9615 - val_loss: 0.9028 - val_acc: 0.4667\n",
            "Epoch 15/40\n",
            "130/130 [==============================] - 0s 187us/step - loss: 0.2202 - acc: 0.8769 - val_loss: 0.4190 - val_acc: 0.7333\n",
            "Epoch 16/40\n",
            "130/130 [==============================] - 0s 214us/step - loss: 0.1638 - acc: 0.9615 - val_loss: 0.1749 - val_acc: 1.0000\n",
            "Epoch 17/40\n",
            "130/130 [==============================] - 0s 211us/step - loss: 0.1645 - acc: 0.9462 - val_loss: 0.7386 - val_acc: 0.6000\n",
            "Epoch 18/40\n",
            "130/130 [==============================] - 0s 211us/step - loss: 0.1650 - acc: 0.9385 - val_loss: 0.3489 - val_acc: 0.7333\n",
            "Epoch 19/40\n",
            "130/130 [==============================] - 0s 208us/step - loss: 0.1356 - acc: 0.9846 - val_loss: 0.2256 - val_acc: 1.0000\n",
            "Epoch 20/40\n",
            "130/130 [==============================] - 0s 301us/step - loss: 0.1297 - acc: 0.9615 - val_loss: 0.3400 - val_acc: 0.7333\n",
            "Epoch 21/40\n",
            "130/130 [==============================] - 0s 224us/step - loss: 0.1210 - acc: 0.9769 - val_loss: 0.2369 - val_acc: 1.0000\n",
            "Epoch 22/40\n",
            "130/130 [==============================] - 0s 196us/step - loss: 0.1157 - acc: 0.9846 - val_loss: 0.1942 - val_acc: 1.0000\n",
            "Epoch 23/40\n",
            "130/130 [==============================] - 0s 192us/step - loss: 0.1267 - acc: 0.9692 - val_loss: 0.1756 - val_acc: 1.0000\n",
            "Epoch 24/40\n",
            "130/130 [==============================] - 0s 196us/step - loss: 0.1060 - acc: 0.9846 - val_loss: 0.2939 - val_acc: 0.8667\n",
            "Epoch 25/40\n",
            "130/130 [==============================] - 0s 193us/step - loss: 0.1041 - acc: 0.9846 - val_loss: 0.1953 - val_acc: 1.0000\n",
            "Epoch 26/40\n",
            "130/130 [==============================] - 0s 210us/step - loss: 0.0979 - acc: 0.9692 - val_loss: 0.3971 - val_acc: 0.7333\n",
            "Epoch 27/40\n",
            "130/130 [==============================] - 0s 210us/step - loss: 0.0938 - acc: 0.9692 - val_loss: 0.1795 - val_acc: 1.0000\n",
            "Epoch 28/40\n",
            "130/130 [==============================] - 0s 193us/step - loss: 0.0957 - acc: 0.9692 - val_loss: 0.1921 - val_acc: 1.0000\n",
            "Epoch 29/40\n",
            "130/130 [==============================] - 0s 191us/step - loss: 0.0896 - acc: 0.9846 - val_loss: 0.2911 - val_acc: 0.8000\n",
            "Epoch 30/40\n",
            "130/130 [==============================] - 0s 181us/step - loss: 0.0853 - acc: 0.9692 - val_loss: 0.2405 - val_acc: 0.8667\n",
            "Epoch 31/40\n",
            "130/130 [==============================] - 0s 154us/step - loss: 0.0819 - acc: 0.9846 - val_loss: 0.2046 - val_acc: 0.9333\n",
            "Epoch 32/40\n",
            "130/130 [==============================] - 0s 153us/step - loss: 0.0848 - acc: 0.9769 - val_loss: 0.1479 - val_acc: 1.0000\n",
            "Epoch 33/40\n",
            "130/130 [==============================] - 0s 157us/step - loss: 0.0926 - acc: 0.9692 - val_loss: 0.1726 - val_acc: 1.0000\n",
            "Epoch 34/40\n",
            "130/130 [==============================] - 0s 164us/step - loss: 0.0840 - acc: 0.9615 - val_loss: 0.3365 - val_acc: 0.7333\n",
            "Epoch 35/40\n",
            "130/130 [==============================] - 0s 186us/step - loss: 0.0804 - acc: 0.9692 - val_loss: 0.1360 - val_acc: 1.0000\n",
            "Epoch 36/40\n",
            "130/130 [==============================] - 0s 191us/step - loss: 0.0794 - acc: 0.9769 - val_loss: 0.2466 - val_acc: 0.8667\n",
            "Epoch 37/40\n",
            "130/130 [==============================] - 0s 237us/step - loss: 0.0836 - acc: 0.9538 - val_loss: 0.1788 - val_acc: 0.9333\n",
            "Epoch 38/40\n",
            "130/130 [==============================] - 0s 224us/step - loss: 0.0827 - acc: 0.9769 - val_loss: 0.1620 - val_acc: 1.0000\n",
            "Epoch 39/40\n",
            "130/130 [==============================] - 0s 230us/step - loss: 0.0812 - acc: 0.9692 - val_loss: 0.3111 - val_acc: 0.8000\n",
            "Epoch 40/40\n",
            "130/130 [==============================] - 0s 206us/step - loss: 0.0737 - acc: 0.9615 - val_loss: 0.0934 - val_acc: 1.0000\n"
          ],
          "name": "stdout"
        }
      ]
    },
    {
      "cell_type": "code",
      "metadata": {
        "id": "6s2vbC7wtaWm",
        "colab_type": "code",
        "colab": {
          "base_uri": "https://localhost:8080/",
          "height": 607
        },
        "outputId": "2a08fb1b-affd-4ab9-b6b2-c29213dbe3d9"
      },
      "source": [
        "plt.figure(figsize=(10,10))\n",
        "plt.subplot(1, 2, 1)\n",
        "plt.plot(hist.history['acc'], color='r')\n",
        "plt.plot(hist.history['val_acc'], color='b')\n",
        "plt.title('acc')\n",
        "plt.subplot(1, 2, 2)\n",
        "plt.plot(hist.history['loss'], color='r')\n",
        "plt.plot(hist.history['val_loss'], color='b')\n",
        "plt.title('loss')\n",
        "plt.show()"
      ],
      "execution_count": 41,
      "outputs": [
        {
          "output_type": "display_data",
          "data": {
            "image/png": "[encoded data removed]",
            "text/plain": [
              "<Figure size 720x720 with 2 Axes>"
            ]
          },
          "metadata": {
            "tags": []
          }
        }
      ]
    },
    {
      "cell_type": "code",
      "metadata": {
        "id": "MG3z2RM8uwkE",
        "colab_type": "code",
        "colab": {
          "base_uri": "https://localhost:8080/",
          "height": 52
        },
        "outputId": "eb794067-1f99-4e92-a3ec-fa5b77deaeb8"
      },
      "source": [
        "score = model.evaluate(X_test,Y_test)\n",
        "print(score)"
      ],
      "execution_count": 42,
      "outputs": [
        {
          "output_type": "stream",
          "text": [
            "\r5/5 [==============================] - 0s 790us/step\n",
            "[0.040028832852840424, 1.0]\n"
          ],
          "name": "stdout"
        }
      ]
    },
    {
      "cell_type": "code",
      "metadata": {
        "id": "zXqLGgEMvXrm",
        "colab_type": "code",
        "colab": {}
      },
      "source": [
        ""
      ],
      "execution_count": 0,
      "outputs": []
    }
  ]
}